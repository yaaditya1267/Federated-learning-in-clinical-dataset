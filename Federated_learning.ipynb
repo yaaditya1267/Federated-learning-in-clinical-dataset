{
  "cells": [
    {
      "cell_type": "code",
      "execution_count": null,
      "metadata": {
        "colab": {},
        "colab_type": "code",
        "id": "Umi7WiQaIB65"
      },
      "outputs": [],
      "source": [
        "import urllib.request\n",
        "\n",
        "def download_url(url, save_as):\n",
        "    response = urllib.request.urlopen(url)\n",
        "    data = response.read()\n",
        "    file = open(save_as, 'wb')\n",
        "    file.write(data)\n",
        "    file.close()\n",
        "    response.close()\n",
        "    \n",
        "def read_binary_file(file):\n",
        "    f = open(file,'rb')\n",
        "    block = f.read()\n",
        "    return block.decode('utf-16')\n",
        "\n",
        "def split_text_in_lines(text):\n",
        "    return text.split('\\r\\n')\n",
        "\n",
        "def split_by_tabs(line):\n",
        "    return line.split('\\t')"
      ]
    },
    {
      "cell_type": "code",
      "execution_count": null,
      "metadata": {
        "colab": {},
        "colab_type": "code",
        "id": "Z6CWlQhCIFL5"
      },
      "outputs": [],
      "source": [
        "names_link = 'https://archive.ics.uci.edu/ml/machine-learning-databases/acute/diagnosis.names'\n",
        "data_link = 'https://archive.ics.uci.edu/ml/machine-learning-databases/acute/diagnosis.data'\n",
        "diagnosis_names = 'diagnosis.names'\n",
        "diagnosis_data = 'diagnosis.data'\n",
        "download_url(names_link, diagnosis_names)\n",
        "download_url(data_link, diagnosis_data)"
      ]
    },
    {
      "cell_type": "code",
      "execution_count": null,
      "metadata": {
        "colab": {},
        "colab_type": "code",
        "id": "RxmUo8C0IJsi"
      },
      "outputs": [],
      "source": [
        "import numpy as np\n",
        "\n",
        "def parse_double(field):\n",
        "    field = field.replace(',', '.')\n",
        "    return float(field)\n",
        "\n",
        "def parse_boolean(field):\n",
        "    return 1. if field == 'yes' else 0.\n",
        "\n",
        "def read_np_array(file = diagnosis_data):\n",
        "    text = read_binary_file(file)\n",
        "    lines = split_text_in_lines(text)\n",
        "    rows = []\n",
        "    for line in lines:\n",
        "        if line == '': continue\n",
        "        line = line.replace('\\r\\n', '')\n",
        "        fields = split_by_tabs(line)\n",
        "        row = []\n",
        "        j = 0\n",
        "        for field in fields:\n",
        "            value = parse_double(field) if j == 0 else parse_boolean(field)\n",
        "            row.append(value)\n",
        "            j += 1\n",
        "        rows.append(row)\n",
        "    matrix = np.array(rows, dtype = np.float32)\n",
        "    return matrix"
      ]
    },
    {
      "cell_type": "code",
      "execution_count": null,
      "metadata": {
        "colab": {},
        "colab_type": "code",
        "id": "8-zCc1urIKN1"
      },
      "outputs": [],
      "source": [
        "def get_random_indexes(n):\n",
        "    indexes = list(range(n))\n",
        "    random_indexes = []\n",
        "    for i in range(n):\n",
        "        r = np.random.randint(len(indexes))\n",
        "        random_indexes.append(indexes.pop(r))\n",
        "    return random_indexes\n",
        "\n",
        "def get_indexes_for_2_datasets(n, training = 80):\n",
        "    indexes = get_random_indexes(n)\n",
        "    train = int(training / 100. * n)\n",
        "    return indexes[:train], indexes[train:]\n",
        "\n",
        "matrix = read_np_array()\n",
        "n_samples, n_dimensions = matrix.shape\n",
        "\n",
        "train_indexes, test_indexes = get_indexes_for_2_datasets(n_samples)\n",
        "train_data = matrix[train_indexes]\n",
        "test_data = matrix[test_indexes]\n",
        "\n",
        "def print_dataset(name, data):\n",
        "    print('Dataset {}. Shape: {}'.format(name, data.shape))\n",
        "    print(data)"
      ]
    },
    {
      "cell_type": "code",
      "execution_count": 6,
      "metadata": {
        "colab": {
          "base_uri": "https://localhost:8080/",
          "height": 1000
        },
        "colab_type": "code",
        "id": "QZtT7bt5IMp7",
        "outputId": "0e345df4-2df4-4b4a-c666-f7f8fe6d6a06"
      },
      "outputs": [
        {
          "name": "stdout",
          "output_type": "stream",
          "text": [
            "Dataset Train. Shape: (96, 8)\n",
            "[[37.   0.   0.   1.   0.   0.   1.   0. ]\n",
            " [41.   1.   1.   0.   1.   0.   0.   1. ]\n",
            " [37.9  0.   0.   1.   1.   1.   1.   0. ]\n",
            " [36.   0.   1.   0.   0.   0.   0.   0. ]\n",
            " [40.3  0.   1.   1.   0.   1.   0.   1. ]\n",
            " [40.7  0.   0.   0.   0.   0.   0.   0. ]\n",
            " [41.3  1.   1.   1.   1.   0.   1.   1. ]\n",
            " [36.8  0.   0.   1.   1.   1.   1.   0. ]\n",
            " [40.2  1.   1.   1.   1.   1.   1.   1. ]\n",
            " [37.7  0.   1.   0.   0.   0.   0.   0. ]\n",
            " [37.5  0.   0.   1.   1.   1.   1.   0. ]\n",
            " [37.1  0.   0.   1.   0.   0.   1.   0. ]\n",
            " [41.   0.   1.   1.   0.   1.   0.   1. ]\n",
            " [37.1  0.   0.   1.   1.   1.   1.   0. ]\n",
            " [40.7  1.   1.   0.   1.   0.   0.   1. ]\n",
            " [37.   0.   0.   1.   1.   1.   1.   0. ]\n",
            " [41.4  0.   1.   1.   0.   1.   0.   1. ]\n",
            " [37.8  0.   0.   1.   1.   1.   1.   0. ]\n",
            " [37.2  0.   0.   1.   0.   0.   1.   0. ]\n",
            " [36.6  0.   0.   1.   1.   1.   1.   0. ]\n",
            " [37.9  0.   0.   1.   1.   0.   1.   0. ]\n",
            " [35.9  0.   1.   0.   0.   0.   0.   0. ]\n",
            " [39.   0.   1.   1.   0.   1.   0.   1. ]\n",
            " [41.5  1.   1.   0.   1.   0.   0.   1. ]\n",
            " [40.4  1.   1.   1.   1.   1.   1.   1. ]\n",
            " [38.7  0.   1.   1.   0.   1.   0.   1. ]\n",
            " [37.   0.   0.   1.   1.   1.   1.   0. ]\n",
            " [36.7  0.   0.   1.   1.   1.   1.   0. ]\n",
            " [37.8  0.   1.   0.   0.   0.   0.   0. ]\n",
            " [37.4  0.   1.   0.   0.   0.   0.   0. ]\n",
            " [37.8  0.   0.   1.   0.   0.   1.   0. ]\n",
            " [36.2  0.   0.   1.   1.   1.   1.   0. ]\n",
            " [40.   0.   0.   0.   0.   0.   0.   0. ]\n",
            " [40.9  1.   1.   1.   1.   0.   1.   1. ]\n",
            " [40.5  1.   1.   1.   1.   0.   1.   1. ]\n",
            " [36.   0.   0.   1.   1.   1.   1.   0. ]\n",
            " [40.   1.   1.   0.   1.   0.   0.   1. ]\n",
            " [37.9  0.   0.   1.   0.   0.   1.   0. ]\n",
            " [36.6  0.   1.   0.   0.   0.   0.   0. ]\n",
            " [41.2  1.   1.   0.   1.   0.   0.   1. ]\n",
            " [37.7  0.   0.   1.   1.   0.   1.   0. ]\n",
            " [37.3  0.   0.   1.   1.   1.   1.   0. ]\n",
            " [40.   0.   0.   0.   0.   0.   0.   0. ]\n",
            " [41.2  0.   0.   0.   0.   0.   0.   0. ]\n",
            " [41.1  1.   1.   0.   1.   0.   0.   1. ]\n",
            " [40.7  1.   1.   1.   1.   0.   1.   1. ]\n",
            " [37.5  0.   0.   1.   1.   0.   1.   0. ]\n",
            " [41.1  1.   1.   1.   1.   0.   1.   1. ]\n",
            " [41.   1.   1.   1.   1.   1.   1.   1. ]\n",
            " [40.2  1.   1.   0.   1.   0.   0.   1. ]\n",
            " [37.4  0.   0.   1.   0.   0.   1.   0. ]\n",
            " [37.   0.   0.   1.   1.   0.   1.   0. ]\n",
            " [36.6  0.   1.   0.   0.   0.   0.   0. ]\n",
            " [37.   0.   1.   0.   0.   0.   0.   0. ]\n",
            " [38.   0.   1.   1.   0.   1.   0.   1. ]\n",
            " [37.6  0.   0.   1.   1.   0.   1.   0. ]\n",
            " [41.5  0.   0.   0.   0.   0.   0.   0. ]\n",
            " [36.3  0.   0.   1.   1.   1.   1.   0. ]\n",
            " [37.5  0.   0.   1.   0.   0.   1.   0. ]\n",
            " [37.3  0.   1.   0.   0.   0.   0.   0. ]\n",
            " [40.7  1.   1.   1.   1.   1.   1.   1. ]\n",
            " [38.   0.   1.   1.   0.   1.   0.   1. ]\n",
            " [36.6  0.   0.   1.   1.   1.   1.   0. ]\n",
            " [41.1  0.   1.   1.   0.   1.   0.   1. ]\n",
            " [37.3  0.   0.   1.   0.   0.   1.   0. ]\n",
            " [35.9  0.   0.   1.   1.   1.   1.   0. ]\n",
            " [41.1  1.   1.   1.   1.   1.   1.   1. ]\n",
            " [36.2  0.   1.   0.   0.   0.   0.   0. ]\n",
            " [37.   0.   0.   1.   1.   1.   1.   0. ]\n",
            " [40.6  0.   0.   0.   0.   0.   0.   0. ]\n",
            " [35.5  0.   1.   0.   0.   0.   0.   0. ]\n",
            " [37.7  0.   0.   1.   1.   0.   1.   0. ]\n",
            " [40.7  0.   1.   1.   0.   1.   0.   1. ]\n",
            " [37.7  0.   0.   1.   0.   0.   1.   0. ]\n",
            " [40.   1.   1.   1.   1.   1.   1.   1. ]\n",
            " [39.7  0.   1.   1.   0.   1.   0.   1. ]\n",
            " [40.4  1.   1.   1.   1.   0.   1.   1. ]\n",
            " [40.   1.   1.   0.   1.   0.   0.   1. ]\n",
            " [41.2  0.   1.   1.   0.   1.   0.   1. ]\n",
            " [41.5  0.   1.   1.   0.   1.   0.   1. ]\n",
            " [40.6  1.   1.   0.   1.   0.   0.   1. ]\n",
            " [40.4  1.   1.   1.   1.   0.   1.   1. ]\n",
            " [40.2  0.   0.   0.   0.   0.   0.   0. ]\n",
            " [36.7  0.   1.   0.   0.   0.   0.   0. ]\n",
            " [37.2  0.   1.   0.   0.   0.   0.   0. ]\n",
            " [37.5  0.   0.   1.   0.   0.   1.   0. ]\n",
            " [37.   0.   0.   1.   1.   1.   1.   0. ]\n",
            " [40.1  1.   1.   1.   1.   0.   1.   1. ]\n",
            " [40.4  0.   0.   0.   0.   0.   0.   0. ]\n",
            " [37.1  0.   1.   0.   0.   0.   0.   0. ]\n",
            " [36.9  0.   1.   0.   0.   0.   0.   0. ]\n",
            " [38.9  0.   1.   1.   0.   1.   0.   1. ]\n",
            " [40.   1.   1.   1.   1.   0.   1.   1. ]\n",
            " [40.9  0.   1.   1.   0.   1.   0.   1. ]\n",
            " [37.   0.   0.   1.   1.   0.   1.   0. ]\n",
            " [38.3  0.   1.   1.   0.   1.   0.   1. ]]\n"
          ]
        }
      ],
      "source": [
        "print_dataset('Train', train_data)\n"
      ]
    },
    {
      "cell_type": "code",
      "execution_count": 7,
      "metadata": {
        "colab": {
          "base_uri": "https://localhost:8080/",
          "height": 442
        },
        "colab_type": "code",
        "id": "Uj2cp8UwIOuP",
        "outputId": "4c1cc840-15ae-42ec-c0e0-7d2515d9cbb6"
      },
      "outputs": [
        {
          "name": "stdout",
          "output_type": "stream",
          "text": [
            "Dataset Test. Shape: (24, 8)\n",
            "[[40.9  1.   1.   1.   1.   0.   1.   1. ]\n",
            " [37.6  0.   0.   1.   1.   1.   1.   0. ]\n",
            " [37.5  0.   1.   0.   0.   0.   0.   0. ]\n",
            " [40.   0.   1.   1.   0.   1.   0.   1. ]\n",
            " [40.6  1.   1.   1.   1.   1.   1.   1. ]\n",
            " [38.5  0.   1.   1.   0.   1.   0.   1. ]\n",
            " [37.9  0.   0.   1.   1.   0.   1.   0. ]\n",
            " [36.8  0.   0.   1.   1.   1.   1.   0. ]\n",
            " [37.5  0.   1.   0.   0.   0.   0.   0. ]\n",
            " [41.2  1.   1.   1.   1.   1.   1.   1. ]\n",
            " [41.5  0.   1.   1.   0.   1.   0.   1. ]\n",
            " [41.1  0.   0.   0.   0.   0.   0.   0. ]\n",
            " [37.6  0.   0.   1.   1.   0.   1.   0. ]\n",
            " [36.7  0.   1.   0.   0.   0.   0.   0. ]\n",
            " [41.   0.   0.   0.   0.   0.   0.   0. ]\n",
            " [40.8  0.   1.   1.   0.   1.   0.   1. ]\n",
            " [40.   1.   1.   1.   1.   1.   1.   1. ]\n",
            " [40.4  1.   1.   0.   1.   0.   0.   1. ]\n",
            " [38.1  0.   1.   1.   0.   1.   0.   1. ]\n",
            " [37.9  0.   1.   0.   0.   0.   0.   0. ]\n",
            " [39.4  0.   1.   1.   0.   1.   0.   1. ]\n",
            " [36.9  0.   0.   1.   1.   1.   1.   0. ]\n",
            " [37.2  0.   0.   1.   1.   0.   1.   0. ]\n",
            " [36.   0.   1.   0.   0.   0.   0.   0. ]]\n"
          ]
        }
      ],
      "source": [
        "print_dataset('Test', test_data)\n"
      ]
    },
    {
      "cell_type": "code",
      "execution_count": null,
      "metadata": {
        "colab": {},
        "colab_type": "code",
        "id": "e3YMsLmIIdQt"
      },
      "outputs": [],
      "source": [
        "import torch\n",
        "from torch.autograd import Variable\n",
        "import torch.nn as nn\n",
        "import torch.nn.functional as F\n",
        "input_size = 6\n",
        "learning_rate = 0.01\n",
        "num_iterations = 20000\n",
        "\n",
        "class LogisticRegression(torch.nn.Module):\n",
        "\n",
        "    def __init__(self):\n",
        "        super(LogisticRegression, self).__init__()\n",
        "        self.linear = torch.nn.Linear(input_size, 1)\n",
        "\n",
        "    def forward(self, x):\n",
        "        return torch.sigmoid(self.linear(x))"
      ]
    },
    {
      "cell_type": "code",
      "execution_count": null,
      "metadata": {
        "colab": {},
        "colab_type": "code",
        "id": "buQxeTRcIiw3"
      },
      "outputs": [],
      "source": [
        "def decide(y):\n",
        "    return 1. if y >= 0.5 else 0.\n",
        "\n",
        "decide_vectorized = np.vectorize(decide)\n",
        "\n",
        "to_percent = lambda x: '{:.2f}%'.format(x)\n",
        "def compute_accuracy(model, input, output):\n",
        "    prediction = model(input).data.numpy()[:, 0]\n",
        "    n_samples = prediction.shape[0] + 0.\n",
        "    prediction = decide_vectorized(prediction)\n",
        "    equal = prediction == output.data.numpy()\n",
        "    return 100. * equal.sum() / n_samples\n",
        "\n",
        "def get_input_and_output(data):\n",
        "    input = Variable(torch.tensor(data[:, :6], dtype = torch.float32))\n",
        "    output1 = Variable(torch.tensor(data[:, 6], dtype = torch.float32))\n",
        "    output2 = Variable(torch.tensor(data[:, 7], dtype = torch.float32))\n",
        "    return input, output1, output2\n",
        "    input, output1, output2 = get_input_and_output(train_data)\n",
        "test_input, test_output1, test_output2 = get_input_and_output(test_data)\n",
        "import matplotlib.pyplot as plt\n",
        "%matplotlib inline\n",
        "\n",
        "diagnosis_title1 = 'Inflammation of Urinary Bladder'\n",
        "def plot_graphs(diagnosis_title, losses, accuracies):\n",
        "    plt.plot(losses)\n",
        "    plt.title(f\"{diagnosis_title} - Training Loss\")\n",
        "    plt.xlabel(\"Iterations\")\n",
        "    plt.ylabel(\"Training Loss\")\n",
        "    plt.show()\n",
        "    plt.plot(accuracies)\n",
        "    plt.title(f\"{diagnosis_title} - Training Accuracy\")\n",
        "    plt.xlabel(\"Iterations\")\n",
        "    plt.ylabel(\"Training Accuracy (Percent %)\")\n",
        "    plt.show()\n",
        "    def train_model(diagnosis_title, input, output, test_input, test_output):\n",
        "    model = LogisticRegression()\n",
        "    criterion = torch.nn.BCELoss(size_average=True)\n",
        "    optimizer = torch.optim.SGD(model.parameters(), lr=learning_rate)  \n",
        "    losses = []\n",
        "    accuracies = []\n",
        "    n_samples, _ = input.shape\n",
        "    for iteration in range(num_iterations):\n",
        "            optimizer.zero_grad()\n",
        "            prediction = model(input)\n",
        "            loss = criterion(prediction, output)\n",
        "            loss.backward()\n",
        "            optimizer.step()\n",
        "            if iteration % 500 == 0:\n",
        "                train_acc = compute_accuracy(model, input, output)\n",
        "                train_loss = loss.item()\n",
        "                losses.append(train_loss)\n",
        "                accuracies.append(train_acc)\n",
        "                print('iteration={}, loss={:.4f}, train_acc={}'.format(iteration, train_loss, to_percent(train_acc)))\n",
        "    plot_graphs(diagnosis_title, losses, accuracies)\n",
        "    test_acc = compute_accuracy(model, test_input, test_output)\n",
        "    print('\\nTesting Accuracy = {}'.format(to_percent(test_acc)))\n",
        "    return model\n"
      ]
    },
    {
      "cell_type": "code",
      "execution_count": 19,
      "metadata": {
        "colab": {
          "base_uri": "https://localhost:8080/",
          "height": 1000
        },
        "colab_type": "code",
        "id": "rneEe7jRItSM",
        "outputId": "8f7f1cfb-f5b6-482e-fe80-7cf672c8571c"
      },
      "outputs": [
        {
          "name": "stderr",
          "output_type": "stream",
          "text": [
            "/usr/local/lib/python3.6/dist-packages/torch/nn/_reduction.py:43: UserWarning: size_average and reduce args will be deprecated, please use reduction='mean' instead.\n",
            "  warnings.warn(warning.format(ret))\n",
            "/usr/local/lib/python3.6/dist-packages/torch/nn/modules/loss.py:498: UserWarning: Using a target size (torch.Size([96])) that is different to the input size (torch.Size([96, 1])) is deprecated. Please ensure they have the same size.\n",
            "  return F.binary_cross_entropy(input, target, weight=self.weight, reduction=self.reduction)\n"
          ]
        },
        {
          "name": "stdout",
          "output_type": "stream",
          "text": [
            "iteration=0, loss=1.5656, train_acc=48.96%\n",
            "iteration=500, loss=1.3920, train_acc=48.96%\n",
            "iteration=1000, loss=0.9035, train_acc=48.96%\n",
            "iteration=1500, loss=0.3168, train_acc=89.58%\n",
            "iteration=2000, loss=0.1812, train_acc=100.00%\n",
            "iteration=2500, loss=0.1632, train_acc=100.00%\n",
            "iteration=3000, loss=0.1488, train_acc=100.00%\n",
            "iteration=3500, loss=0.1368, train_acc=100.00%\n",
            "iteration=4000, loss=0.1267, train_acc=100.00%\n",
            "iteration=4500, loss=0.1181, train_acc=100.00%\n",
            "iteration=5000, loss=0.1105, train_acc=100.00%\n",
            "iteration=5500, loss=0.1039, train_acc=100.00%\n",
            "iteration=6000, loss=0.0981, train_acc=100.00%\n",
            "iteration=6500, loss=0.0929, train_acc=100.00%\n",
            "iteration=7000, loss=0.0882, train_acc=100.00%\n",
            "iteration=7500, loss=0.0840, train_acc=100.00%\n",
            "iteration=8000, loss=0.0802, train_acc=100.00%\n",
            "iteration=8500, loss=0.0767, train_acc=100.00%\n",
            "iteration=9000, loss=0.0735, train_acc=100.00%\n",
            "iteration=9500, loss=0.0706, train_acc=100.00%\n",
            "iteration=10000, loss=0.0678, train_acc=100.00%\n",
            "iteration=10500, loss=0.0653, train_acc=100.00%\n",
            "iteration=11000, loss=0.0630, train_acc=100.00%\n",
            "iteration=11500, loss=0.0609, train_acc=100.00%\n",
            "iteration=12000, loss=0.0588, train_acc=100.00%\n",
            "iteration=12500, loss=0.0570, train_acc=100.00%\n",
            "iteration=13000, loss=0.0552, train_acc=100.00%\n",
            "iteration=13500, loss=0.0535, train_acc=100.00%\n",
            "iteration=14000, loss=0.0520, train_acc=100.00%\n",
            "iteration=14500, loss=0.0505, train_acc=100.00%\n",
            "iteration=15000, loss=0.0491, train_acc=100.00%\n",
            "iteration=15500, loss=0.0478, train_acc=100.00%\n",
            "iteration=16000, loss=0.0466, train_acc=100.00%\n",
            "iteration=16500, loss=0.0454, train_acc=100.00%\n",
            "iteration=17000, loss=0.0443, train_acc=100.00%\n",
            "iteration=17500, loss=0.0432, train_acc=100.00%\n",
            "iteration=18000, loss=0.0422, train_acc=100.00%\n",
            "iteration=18500, loss=0.0412, train_acc=100.00%\n",
            "iteration=19000, loss=0.0403, train_acc=100.00%\n",
            "iteration=19500, loss=0.0394, train_acc=100.00%\n"
          ]
        },
        {
          "data": {
            "image/png": "[encoded data removed]",
            "text/plain": [
              "<Figure size 432x288 with 1 Axes>"
            ]
          },
          "metadata": {
            "tags": []
          },
          "output_type": "display_data"
        },
        {
          "data": {
            "image/png": "[encoded data removed]",
            "text/plain": [
              "<Figure size 432x288 with 1 Axes>"
            ]
          },
          "metadata": {
            "tags": []
          },
          "output_type": "display_data"
        },
        {
          "name": "stdout",
          "output_type": "stream",
          "text": [
            "\n",
            "Testing Accuracy = 100.00%\n"
          ]
        }
      ],
      "source": [
        "model = train_model(diagnosis_title1, input, output1, test_input, test_output1)\n"
      ]
    },
    {
      "cell_type": "code",
      "execution_count": null,
      "metadata": {
        "colab": {},
        "colab_type": "code",
        "id": "DBImAJTmI3hR"
      },
      "outputs": [],
      "source": [
        "#Federated Learning"
      ]
    },
    {
      "cell_type": "code",
      "execution_count": 23,
      "metadata": {
        "colab": {
          "base_uri": "https://localhost:8080/",
          "height": 870
        },
        "colab_type": "code",
        "id": "u8CF8jOjJKOA",
        "outputId": "03b09892-ecb0-4bc0-f489-deeb87e54731"
      },
      "outputs": [
        {
          "name": "stdout",
          "output_type": "stream",
          "text": [
            "Collecting syft\n",
            "\u001b[?25l  Downloading https://files.pythonhosted.org/packages/ed/92/1d41de2cbb196dc315e083228ad41308107e7a298e7f547106daa756ee0c/syft-0.2.0a2-py3-none-any.whl (337kB)\n",
            "\u001b[K     |████████████████████████████████| 337kB 8.7MB/s \n",
            "\u001b[?25hRequirement already satisfied: torch==1.3 in /usr/local/lib/python3.6/dist-packages (from syft) (1.3.0+cu100)\n",
            "Requirement already satisfied: torchvision==0.4.1 in /usr/local/lib/python3.6/dist-packages (from syft) (0.4.1+cu100)\n",
            "Requirement already satisfied: Flask>=1.0.2 in /usr/local/lib/python3.6/dist-packages (from syft) (1.1.1)\n",
            "Collecting websockets>=7.0\n",
            "\u001b[?25l  Downloading https://files.pythonhosted.org/packages/f0/4b/ad228451b1c071c5c52616b7d4298ebcfcac5ae8515ede959db19e4cd56d/websockets-8.0.2-cp36-cp36m-manylinux1_x86_64.whl (72kB)\n",
            "\u001b[K     |████████████████████████████████| 81kB 8.4MB/s \n",
            "\u001b[?25hCollecting zstd>=1.4.0.0\n",
            "\u001b[?25l  Downloading https://files.pythonhosted.org/packages/ce/73/585134600c7fe918566adddf94af42b35cb0dad4b96ee0180190fbcbb954/zstd-1.4.3.2.tar.gz (456kB)\n",
            "\u001b[K     |████████████████████████████████| 460kB 51.6MB/s \n",
            "\u001b[?25hCollecting msgpack>=0.6.1\n",
            "\u001b[?25l  Downloading https://files.pythonhosted.org/packages/3d/a8/e01fea81691749044a7bfd44536483a296d9c0a7ed4ec8810a229435547c/msgpack-0.6.2-cp36-cp36m-manylinux1_x86_64.whl (249kB)\n",
            "\u001b[K     |████████████████████████████████| 256kB 42.9MB/s \n",
            "\u001b[?25hCollecting flask-socketio>=3.3.2\n",
            "  Downloading https://files.pythonhosted.org/packages/66/44/edc4715af85671b943c18ac8345d0207972284a0cd630126ff5251faa08b/Flask_SocketIO-4.2.1-py2.py3-none-any.whl\n",
            "Requirement already satisfied: tblib>=1.4.0 in /usr/local/lib/python3.6/dist-packages (from syft) (1.5.0)\n",
            "Collecting websocket-client>=0.56.0\n",
            "\u001b[?25l  Downloading https://files.pythonhosted.org/packages/29/19/44753eab1fdb50770ac69605527e8859468f3c0fd7dc5a76dd9c4dbd7906/websocket_client-0.56.0-py2.py3-none-any.whl (200kB)\n",
            "\u001b[K     |████████████████████████████████| 204kB 51.9MB/s \n",
            "\u001b[?25hRequirement already satisfied: numpy>=1.16.0 in /usr/local/lib/python3.6/dist-packages (from syft) (1.17.3)\n",
            "Collecting lz4>=2.1.6\n",
            "\u001b[?25l  Downloading https://files.pythonhosted.org/packages/5d/5e/cedd32c203ce0303188b0c7ff8388bba3c33e4bf6da21ae789962c4fb2e7/lz4-2.2.1-cp36-cp36m-manylinux1_x86_64.whl (395kB)\n",
            "\u001b[K     |████████████████████████████████| 399kB 41.9MB/s \n",
            "\u001b[?25hRequirement already satisfied: six in /usr/local/lib/python3.6/dist-packages (from torchvision==0.4.1->syft) (1.12.0)\n",
            "Requirement already satisfied: pillow>=4.1.1 in /usr/local/lib/python3.6/dist-packages (from torchvision==0.4.1->syft) (4.3.0)\n",
            "Requirement already satisfied: Werkzeug>=0.15 in /usr/local/lib/python3.6/dist-packages (from Flask>=1.0.2->syft) (0.16.0)\n",
            "Requirement already satisfied: Jinja2>=2.10.1 in /usr/local/lib/python3.6/dist-packages (from Flask>=1.0.2->syft) (2.10.3)\n",
            "Requirement already satisfied: click>=5.1 in /usr/local/lib/python3.6/dist-packages (from Flask>=1.0.2->syft) (7.0)\n",
            "Requirement already satisfied: itsdangerous>=0.24 in /usr/local/lib/python3.6/dist-packages (from Flask>=1.0.2->syft) (1.1.0)\n",
            "Collecting python-socketio>=4.3.0\n",
            "\u001b[?25l  Downloading https://files.pythonhosted.org/packages/35/b0/22c3f785f23fec5c7a815f47c55d7e7946a67ae2129ff604148e939d3bdb/python_socketio-4.3.1-py2.py3-none-any.whl (49kB)\n",
            "\u001b[K     |████████████████████████████████| 51kB 2.2MB/s \n",
            "\u001b[?25hRequirement already satisfied: olefile in /usr/local/lib/python3.6/dist-packages (from pillow>=4.1.1->torchvision==0.4.1->syft) (0.46)\n",
            "Requirement already satisfied: MarkupSafe>=0.23 in /usr/local/lib/python3.6/dist-packages (from Jinja2>=2.10.1->Flask>=1.0.2->syft) (1.1.1)\n",
            "Collecting python-engineio>=3.9.0\n",
            "\u001b[?25l  Downloading https://files.pythonhosted.org/packages/9b/fb/843f043988306d12f27ae62a82ce26edc7513580e5e089b4911326879f7e/python_engineio-3.10.0-py2.py3-none-any.whl (120kB)\n",
            "\u001b[K     |████████████████████████████████| 122kB 51.1MB/s \n",
            "\u001b[?25hBuilding wheels for collected packages: zstd\n",
            "  Building wheel for zstd (setup.py) ... \u001b[?25l\u001b[?25hdone\n",
            "  Created wheel for zstd: filename=zstd-1.4.3.2-cp36-cp36m-linux_x86_64.whl size=1076266 sha256=6b81e839ef7820498236492b91f04043767b520ece05d43b955d13a780fa7807\n",
            "  Stored in directory: /root/.cache/pip/wheels/f2/df/a8/405bafcabba88a18c8763694e79177e2a1bbc65ac0f6b3d728\n",
            "Successfully built zstd\n",
            "Installing collected packages: websockets, zstd, msgpack, python-engineio, python-socketio, flask-socketio, websocket-client, lz4, syft\n",
            "  Found existing installation: msgpack 0.5.6\n",
            "    Uninstalling msgpack-0.5.6:\n",
            "      Successfully uninstalled msgpack-0.5.6\n",
            "Successfully installed flask-socketio-4.2.1 lz4-2.2.1 msgpack-0.6.2 python-engineio-3.10.0 python-socketio-4.3.1 syft-0.2.0a2 websocket-client-0.56.0 websockets-8.0.2 zstd-1.4.3.2\n"
          ]
        }
      ],
      "source": [
        "!pip install syft"
      ]
    },
    {
      "cell_type": "code",
      "execution_count": 32,
      "metadata": {
        "colab": {
          "base_uri": "https://localhost:8080/",
          "height": 442
        },
        "colab_type": "code",
        "id": "5gjOhWmmJhnZ",
        "outputId": "983b83ed-ef18-4e72-9056-e608cece0ec3"
      },
      "outputs": [
        {
          "name": "stderr",
          "output_type": "stream",
          "text": [
            "Worker hospital1 already exists. Replacing old worker which could cause                     unexpected behavior\n",
            "Worker hospital2 already exists. Replacing old worker which could cause                     unexpected behavior\n",
            "Worker hospital3 already exists. Replacing old worker which could cause                     unexpected behavior\n",
            "Worker secure_worker already exists. Replacing old worker which could cause                     unexpected behavior\n",
            "Worker hospital0 already exists. Replacing old worker which could cause                     unexpected behavior\n",
            "Worker hospital2 already exists. Replacing old worker which could cause                     unexpected behavior\n",
            "Worker hospital3 already exists. Replacing old worker which could cause                     unexpected behavior\n",
            "Worker secure_worker already exists. Replacing old worker which could cause                     unexpected behavior\n",
            "Worker hospital0 already exists. Replacing old worker which could cause                     unexpected behavior\n",
            "Worker hospital1 already exists. Replacing old worker which could cause                     unexpected behavior\n",
            "Worker hospital3 already exists. Replacing old worker which could cause                     unexpected behavior\n",
            "Worker secure_worker already exists. Replacing old worker which could cause                     unexpected behavior\n",
            "Worker hospital0 already exists. Replacing old worker which could cause                     unexpected behavior\n",
            "Worker hospital1 already exists. Replacing old worker which could cause                     unexpected behavior\n",
            "Worker hospital2 already exists. Replacing old worker which could cause                     unexpected behavior\n",
            "Worker secure_worker already exists. Replacing old worker which could cause                     unexpected behavior\n",
            "Worker hospital0 already exists. Replacing old worker which could cause                     unexpected behavior\n",
            "Worker hospital1 already exists. Replacing old worker which could cause                     unexpected behavior\n",
            "Worker hospital2 already exists. Replacing old worker which could cause                     unexpected behavior\n",
            "Worker hospital3 already exists. Replacing old worker which could cause                     unexpected behavior\n"
          ]
        },
        {
          "name": "stdout",
          "output_type": "stream",
          "text": [
            "workers of hospital0 = ['hospital1', 'hospital2', 'hospital3', 'secure_worker']\n",
            "workers of hospital1 = ['hospital0', 'hospital2', 'hospital3', 'secure_worker']\n",
            "workers of hospital2 = ['hospital0', 'hospital1', 'hospital3', 'secure_worker']\n",
            "workers of hospital3 = ['hospital0', 'hospital1', 'hospital2', 'secure_worker']\n",
            "workers of secure_worker = ['hospital0', 'hospital1', 'hospital2', 'hospital3']\n"
          ]
        }
      ],
      "source": [
        "import syft as sy\n",
        "import torch as th\n",
        "hook = sy.TorchHook(th)\n",
        "from torch import nn, optim\n",
        "n_hospitals = 4\n",
        "hospitals = []\n",
        "for i in range(n_hospitals):\n",
        "    hospital_name = 'hospital{}'.format(i)\n",
        "    hospital = sy.VirtualWorker(hook, id = hospital_name)\n",
        "    hospitals.append(hospital)\n",
        "secure_worker = sy.VirtualWorker(hook, id=\"secure_worker\")\n",
        "def get_workers_names(workers):\n",
        "    return [worker.id for worker in workers]\n",
        "\n",
        "def add_and_print_workers(worker, workers):\n",
        "    print('workers of {} = {}'.format(worker.id, get_workers_names(workers)))\n",
        "    worker.add_workers(workers)\n",
        "\n",
        "for i in range(n_hospitals):\n",
        "    workers = [hospitals[i2] for i2 in range(n_hospitals) if i2 != i] + [secure_worker]\n",
        "    add_and_print_workers(hospitals[i], workers)\n",
        "add_and_print_workers(secure_worker, hospitals)"
      ]
    },
    {
      "cell_type": "code",
      "execution_count": 33,
      "metadata": {
        "colab": {
          "base_uri": "https://localhost:8080/",
          "height": 68
        },
        "colab_type": "code",
        "id": "wFJcYHf2JnxD",
        "outputId": "cd5dc30e-15af-4df9-fe21-07694afab104"
      },
      "outputs": [
        {
          "name": "stdout",
          "output_type": "stream",
          "text": [
            "LogisticRegression(\n",
            "  (linear): Linear(in_features=6, out_features=1, bias=True)\n",
            ")\n"
          ]
        }
      ],
      "source": [
        "n_samples = train_data.shape[0]\n",
        "samples_per_hospital = int((n_samples + 0.5) / n_hospitals)\n",
        "hospital_features = []\n",
        "hospital_targets1 = []\n",
        "hospital_targets2 = []\n",
        "train_data = th.tensor(train_data, dtype = torch.float32, requires_grad=True)\n",
        "for i in range(n_hospitals):\n",
        "    train_data2 = train_data[i * samples_per_hospital:(i + 1) * samples_per_hospital].clone().detach().requires_grad_(True)\n",
        "    features = train_data2[:, :6].clone().detach().requires_grad_(True)\n",
        "    targets1 = train_data2[:, 6][:, None].clone().detach() \n",
        "    targets2 = train_data2[:, 7][:, None].clone().detach() \n",
        "    hospital_features.append(features.send(hospitals[i]))\n",
        "    hospital_targets1.append(targets1.send(hospitals[i]))\n",
        "    hospital_targets2.append(targets2.send(hospitals[i]))\n",
        "\n",
        "print(model)"
      ]
    },
    {
      "cell_type": "code",
      "execution_count": null,
      "metadata": {
        "colab": {},
        "colab_type": "code",
        "id": "cg6P0uIpJ1gm"
      },
      "outputs": [],
      "source": [
        "def plot_federated_graphs(diagnosis_title, losses, accuracies):\n",
        "    for i in range(n_hospitals):\n",
        "        plt.plot(losses[i], label=f'Hospital {i}')\n",
        "    legend = plt.legend(loc='upper right', shadow=True)\n",
        "    plt.title(f\"{diagnosis_title} - Training Loss\")\n",
        "    plt.xlabel(\"Iterations\")\n",
        "    plt.ylabel(\"Training Loss\")\n",
        "    plt.show()\n",
        "    for i in range(n_hospitals):\n",
        "        plt.plot(accuracies[i], label=f'Hospital {i}')\n",
        "    legend = plt.legend(loc='lower right', shadow=True)\n",
        "    plt.title(f\"{diagnosis_title} - Training Accuracy\")\n",
        "    plt.xlabel(\"Iterations\")\n",
        "    plt.ylabel(\"Training Accuracy (Percent %)\")\n",
        "    plt.show()\n",
        "def compute_federated_accuracy(model, input, output):\n",
        "    prediction = model(input)\n",
        "    n_samples = prediction.shape[0]\n",
        "    s = 0.\n",
        "    for i in range(n_samples):\n",
        "        p = 1. if prediction[i] >= 0.5 else 0.\n",
        "        e = 1. if p == output[i] else 0.\n",
        "        s += e\n",
        "    return 100. * s / n_samples\n",
        "\n",
        "iterations = 1000 #2000\n",
        "worker_iterations = 5\n",
        "def federated_learning(diagnosis_title, hospital_features, hospital_targets, test_input, test_output):\n",
        "    model = LogisticRegression()\n",
        "    criterion = torch.nn.BCELoss(size_average=True)\n",
        "    optimizer = torch.optim.SGD(model.parameters(), lr=learning_rate)  \n",
        "    losses = [[] for i in range(n_hospitals)]\n",
        "    accuracies = [[] for i in range(n_hospitals)]\n",
        "    for iteration in range(iterations):\n",
        "        models = [model.copy().send(hospitals[i]) for i in range(n_hospitals)]\n",
        "        optimizers = [torch.optim.SGD(params = models[i].parameters(), lr = learning_rate) for i in range(n_hospitals)]\n",
        "        for worker_iteration in range(worker_iterations):\n",
        "            last_losses = []\n",
        "            for i in range(n_hospitals):\n",
        "                optimizers[i].zero_grad()\n",
        "                prediction = models[i](hospital_features[i])\n",
        "                loss = criterion(prediction, hospital_targets[i])\n",
        "                loss.backward()\n",
        "                optimizers[i].step()\n",
        "                loss = loss.get().data.item()\n",
        "                last_losses.append(loss)\n",
        "        for i in range(n_hospitals):\n",
        "            losses[i].append(last_losses[i])\n",
        "            train_acc = compute_federated_accuracy(models[i], hospital_features[i], hospital_targets[i])\n",
        "            accuracies[i].append(train_acc)\n",
        "            models[i].move(secure_worker)\n",
        "        with th.no_grad():\n",
        "            avg_weight = sum([models[i].linear.weight.data for i in range(n_hospitals)]) / n_hospitals\n",
        "            model.linear.weight.set_(avg_weight.get())\n",
        "            avg_bias = sum([models[i].linear.bias.data for i in range(n_hospitals)]) / n_hospitals\n",
        "            model.linear.bias.set_(avg_bias.get())\n",
        "        if iteration % 100 == 0:\n",
        "            losses_str = ['{:.4f}'.format(losses[i][-1]) for i in range(n_hospitals)]\n",
        "            accuracies_str = [to_percent(accuracies[i][-1]) for i in range(n_hospitals)]\n",
        "            print('Iteration={}, losses={}, accuracies={}'.format(iteration, losses_str, accuracies_str))\n",
        "    plot_federated_graphs(diagnosis_title, losses, accuracies)\n",
        "    test_acc = compute_accuracy(model, test_input, test_output)\n",
        "    print('\\nTesting Accuracy = {}'.format(to_percent(test_acc)))\n",
        "    return model"
      ]
    },
    {
      "cell_type": "code",
      "execution_count": 37,
      "metadata": {
        "colab": {
          "base_uri": "https://localhost:8080/",
          "height": 831
        },
        "colab_type": "code",
        "id": "zXSGLTl2J4pF",
        "outputId": "efd55f11-ad55-452d-d623-58191627287a"
      },
      "outputs": [
        {
          "name": "stderr",
          "output_type": "stream",
          "text": [
            "/usr/local/lib/python3.6/dist-packages/torch/nn/_reduction.py:43: UserWarning: size_average and reduce args will be deprecated, please use reduction='mean' instead.\n",
            "  warnings.warn(warning.format(ret))\n"
          ]
        },
        {
          "name": "stdout",
          "output_type": "stream",
          "text": [
            "Iteration=0, losses=['1.9069', '1.9583', '1.8771', '1.0122'], accuracies=['45.83%', '41.67%', '45.83%', '62.50%']\n",
            "Iteration=100, losses=['1.4347', '1.3302', '1.3479', '0.9102'], accuracies=['45.83%', '41.67%', '45.83%', '62.50%']\n",
            "Iteration=200, losses=['0.9010', '0.8793', '0.7133', '0.7099'], accuracies=['45.83%', '62.50%', '62.50%', '62.50%']\n",
            "Iteration=300, losses=['0.3528', '0.2908', '0.2139', '0.5220'], accuracies=['79.17%', '87.50%', '100.00%', '62.50%']\n",
            "Iteration=400, losses=['0.1735', '0.1646', '0.1604', '0.2544'], accuracies=['100.00%', '100.00%', '100.00%', '70.83%']\n",
            "Iteration=500, losses=['0.1566', '0.1490', '0.1449', '0.1930'], accuracies=['100.00%', '100.00%', '100.00%', '100.00%']\n",
            "Iteration=600, losses=['0.1432', '0.1360', '0.1324', '0.1727'], accuracies=['100.00%', '100.00%', '100.00%', '100.00%']\n",
            "Iteration=700, losses=['0.1320', '0.1252', '0.1220', '0.1573'], accuracies=['100.00%', '100.00%', '100.00%', '100.00%']\n",
            "Iteration=800, losses=['0.1225', '0.1161', '0.1133', '0.1449'], accuracies=['100.00%', '100.00%', '100.00%', '100.00%']\n",
            "Iteration=900, losses=['0.1142', '0.1082', '0.1058', '0.1345'], accuracies=['100.00%', '100.00%', '100.00%', '100.00%']\n"
          ]
        },
        {
          "data": {
            "image/png": "[encoded data removed]",
            "text/plain": [
              "<Figure size 432x288 with 1 Axes>"
            ]
          },
          "metadata": {
            "tags": []
          },
          "output_type": "display_data"
        },
        {
          "data": {
            "image/png": "[encoded data removed]",
            "text/plain": [
              "<Figure size 432x288 with 1 Axes>"
            ]
          },
          "metadata": {
            "tags": []
          },
          "output_type": "display_data"
        },
        {
          "name": "stdout",
          "output_type": "stream",
          "text": [
            "\n",
            "Testing Accuracy = 100.00%\n"
          ]
        }
      ],
      "source": [
        "model = federated_learning(diagnosis_title1, hospital_features, hospital_targets1, test_input, test_output1)\n"
      ]
    }
  ],
  "metadata": {
    "colab": {
      "name": "Untitled17.ipynb",
      "provenance": []
    },
    "kernelspec": {
      "display_name": "Python 3.11.3 64-bit",
      "language": "python",
      "name": "python3"
    },
    "language_info": {
      "name": "python",
      "version": "3.11.3"
    },
    "vscode": {
      "interpreter": {
        "hash": "b0fa6594d8f4cbf19f97940f81e996739fb7646882a419484c72d19e05852a7e"
      }
    }
  },
  "nbformat": 4,
  "nbformat_minor": 0
}
